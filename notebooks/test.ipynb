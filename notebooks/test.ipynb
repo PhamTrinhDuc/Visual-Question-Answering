{
 "cells": [
  {
   "cell_type": "code",
   "execution_count": 1,
   "metadata": {},
   "outputs": [
    {
     "name": "stdout",
     "output_type": "stream",
     "text": [
      "d:\\workspace\\VQA\n"
     ]
    }
   ],
   "source": [
    "%cd .."
   ]
  },
  {
   "cell_type": "code",
   "execution_count": null,
   "metadata": {},
   "outputs": [
    {
     "name": "stderr",
     "output_type": "stream",
     "text": [
      "c:\\Users\\Admin\\anaconda3\\envs\\vqa\\Lib\\site-packages\\tqdm\\auto.py:21: TqdmWarning: IProgress not found. Please update jupyter and ipywidgets. See https://ipywidgets.readthedocs.io/en/stable/user_install.html\n",
      "  from .autonotebook import tqdm as notebook_tqdm\n"
     ]
    }
   ],
   "source": [
    "import pandas as pd\n",
    "from PIL import Image\n",
    "import os\n",
    "import json\n",
    "from config import  config\n",
    "from model.vqa_model import VQAModel\n",
    "from transformers import AutoTokenizer\n",
    "import torch"
   ]
  },
  {
   "cell_type": "code",
   "execution_count": null,
   "metadata": {},
   "outputs": [
    {
     "name": "stderr",
     "output_type": "stream",
     "text": [
      "Fast image processor class <class 'transformers.models.vit.image_processing_vit_fast.ViTImageProcessorFast'> is available for this model. Using slow image processor class. To use the fast image processor class set `use_fast=True`.\n"
     ]
    }
   ],
   "source": [
    "from data_processor import create_dataloder, VQADataset\n",
    "from torchvision import transforms\n",
    "df_train = pd.read_csv(\"./dataset/csv/train_data.csv\")\n",
    "df_val = pd.read_csv(\"./dataset/csv/dev_data.csv\")\n",
    "\n",
    "criterion = torch.nn.CrossEntropyLoss()\n",
    "transforms = transforms.Compose([\n",
    "        transforms.Resize((224, 224)),\n",
    "        transforms.ToTensor(),\n",
    "    ])\n",
    "\n",
    "\n",
    "train_dataset = VQADataset(dataframe=df_train, transform=transforms)\n",
    "val_dataset = VQADataset(dataframe=df_val, transform=transforms)\n",
    "\n",
    "\n",
    "train_loader, val_loader = create_dataloder()\n",
    "\n",
    "data = next(iter(train_loader))\n",
    "model = VQAModel(text_model=config.text_model, \n",
    "                 image_model=config.image_model)\n",
    "\n",
    "image, question, answer = data"
   ]
  },
  {
   "cell_type": "code",
   "execution_count": 6,
   "metadata": {},
   "outputs": [
    {
     "name": "stderr",
     "output_type": "stream",
     "text": [
      "d:\\workspace\\VQA\\model\\vqa_model.py:47: UserWarning: Implicit dimension choice for softmax has been deprecated. Change the call to include dim=X as an argument.\n",
      "  h_attn = F.softmax(h_attn)\n"
     ]
    },
    {
     "name": "stdout",
     "output_type": "stream",
     "text": [
      "torch.Size([16, 50, 64001])\n",
      "torch.Size([16, 50])\n",
      "tensor(11.5250, grad_fn=<NllLoss2DBackward0>)\n"
     ]
    }
   ],
   "source": [
    "prediction, ans_tokens = model(image, question, answer)\n",
    "ans_tokens = ans_tokens.long()\n",
    "print(prediction.shape)\n",
    "print(ans_tokens.shape)\n",
    "\n",
    "\n",
    "loss = criterion(prediction.permute(0, 2, 1), ans_tokens)\n",
    "print(loss)"
   ]
  },
  {
   "cell_type": "code",
   "execution_count": 19,
   "metadata": {},
   "outputs": [
    {
     "data": {
      "text/plain": [
       "0"
      ]
     },
     "execution_count": 19,
     "metadata": {},
     "output_type": "execute_result"
    }
   ],
   "source": [
    "(torch.argmax(prediction, dim=2) == ans_tokens).sum().item()"
   ]
  },
  {
   "cell_type": "code",
   "execution_count": 9,
   "metadata": {},
   "outputs": [
    {
     "name": "stdout",
     "output_type": "stream",
     "text": [
      "['họ đang đi mua_sắm trong siêu_thị', 'tỉnh thái_bình', 'có bốn người đang ở trong phòng', 'dùng cho dịch covid-19', 'cổng khu di_tích có ba lối vào', '7 700 đồng một ký', 'trên thành giếng có con_số 1554', 'trên bức tường có treo hai cái đèn_lồng', 'bán hàng', 'vì sếp tôi vừa đẹp_trai vừa tử_tế', 'dự_án khu dân_cư đông bình_dương đang triển_khai', 'bảng thông_báo san_nhượng mặt_bằng', 'một nhân_viên', 'màu đỏ và màu trắng', 'với một người phụ_nữ', 'nước_mắm này có truyền_thống trăm năm']\n"
     ]
    }
   ],
   "source": [
    "tokenizer = AutoTokenizer.from_pretrained(config.text_model)\n",
    "\n",
    "ans_decode = tokenizer.batch_decode(ans_vocab, skip_special_tokens=True)\n",
    "print(ans_decode)"
   ]
  },
  {
   "cell_type": "code",
   "execution_count": null,
   "metadata": {},
   "outputs": [],
   "source": []
  }
 ],
 "metadata": {
  "kernelspec": {
   "display_name": "vqa",
   "language": "python",
   "name": "python3"
  },
  "language_info": {
   "codemirror_mode": {
    "name": "ipython",
    "version": 3
   },
   "file_extension": ".py",
   "mimetype": "text/x-python",
   "name": "python",
   "nbconvert_exporter": "python",
   "pygments_lexer": "ipython3",
   "version": "3.11.11"
  }
 },
 "nbformat": 4,
 "nbformat_minor": 2
}
